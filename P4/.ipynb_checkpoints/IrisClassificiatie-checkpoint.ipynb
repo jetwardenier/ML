{
 "cells": [
  {
   "cell_type": "markdown",
   "metadata": {},
   "source": [
    "## Iris dataset classificeren met het netwerk"
   ]
  },
  {
   "cell_type": "markdown",
   "metadata": {},
   "source": [
    "imports & initialisatie"
   ]
  },
  {
   "cell_type": "code",
   "execution_count": 1,
   "metadata": {},
   "outputs": [],
   "source": [
    "from sklearn.datasets import load_iris\n",
    "import sys\n",
    "import time\n",
    "import random\n",
    "import pandas as pd\n",
    "from Neuronp4 import Neuron\n",
    "from neuronLayerp4 import neuronLayer\n",
    "from neuronNetworkp4 import neuronNetwork\n",
    "from sklearn.model_selection import train_test_split"
   ]
  },
  {
   "cell_type": "code",
   "execution_count": 2,
   "metadata": {},
   "outputs": [],
   "source": [
    "random.seed(1740188)"
   ]
  },
  {
   "cell_type": "code",
   "execution_count": 3,
   "metadata": {},
   "outputs": [],
   "source": [
    "iris = load_iris()"
   ]
  },
  {
   "cell_type": "markdown",
   "metadata": {},
   "source": [
    "targets moeten van type List zijn "
   ]
  },
  {
   "cell_type": "code",
   "execution_count": 4,
   "metadata": {},
   "outputs": [],
   "source": [
    "iris.target = pd.get_dummies(iris.target)\n",
    "targets = [list(iris.target.iloc[i].values) for i in range(len(iris.data))]\n",
    "data = [list(iris.data[i]) for i in range(len(iris.data))]\n"
   ]
  },
  {
   "cell_type": "markdown",
   "metadata": {},
   "source": [
    "splitten data in test en train set"
   ]
  },
  {
   "cell_type": "code",
   "execution_count": 5,
   "metadata": {},
   "outputs": [],
   "source": [
    "X_train, X_test, y_train, y_test = train_test_split(data, targets, test_size=0.33, random_state=42)"
   ]
  },
  {
   "cell_type": "markdown",
   "metadata": {},
   "source": [
    "aanmaken en trainen netwerk"
   ]
  },
  {
   "cell_type": "code",
   "execution_count": 6,
   "metadata": {},
   "outputs": [],
   "source": [
    "n1 = Neuron(weights=[0.0, 0.1,0.0, 0.1], bias=0)\n",
    "n2 = Neuron(weights=[0.2, 0.3, 0.0, 0.1], bias=0)\n",
    "n3 = Neuron(weights=[0.5, 0.5, 0.6, 0.1], bias=0)\n",
    "inputLayer = neuronLayer([n1, n2, n3])\n",
    "\n",
    "n4 = Neuron(weights=[0.6, 0.7, 0.8], bias=0)\n",
    "n5 = Neuron(weights=[0.9, 1.0, 1.1], bias=0)\n",
    "n6 = Neuron(weights=[0.9, 1.0, 1.1], bias=0)\n",
    "\n",
    "outputLayer = neuronLayer([n4, n5, n6])\n",
    "\n",
    "network = neuronNetwork(layers=[inputLayer, outputLayer])"
   ]
  },
  {
   "cell_type": "code",
   "execution_count": 7,
   "metadata": {},
   "outputs": [
    {
     "name": "stdout",
     "output_type": "stream",
     "text": [
      "total loss 0.02813161038889825\n",
      "epoches 200\n",
      "Trainingsduur in seconden:  1.2973840236663818\n"
     ]
    }
   ],
   "source": [
    "startTime = time.time()\n",
    "network.train(X_train, y_train, learning_rate = 0.3, epochs= 200, max_time= 100)\n",
    "print(\"Trainingsduur in seconden: \", (time.time() - startTime))\n"
   ]
  },
  {
   "cell_type": "markdown",
   "metadata": {},
   "source": [
    "score berekenen"
   ]
  },
  {
   "cell_type": "code",
   "execution_count": 8,
   "metadata": {},
   "outputs": [],
   "source": [
    "def score(data):\n",
    "    output= []\n",
    "    for i in data:\n",
    "        output.append(network.feedForward(i))\n",
    "    output = [[round(i) for i in nested] for nested in output]\n",
    "    \n",
    "    return output"
   ]
  },
  {
   "cell_type": "code",
   "execution_count": 9,
   "metadata": {},
   "outputs": [],
   "source": [
    "\n",
    "def accuracy_score(target, predict):\n",
    "    true = 0 \n",
    "    for i in range(len(target)):\n",
    "        if predict[i] == target[i]: true +=1 \n",
    "    return true/len(target) * 100"
   ]
  },
  {
   "cell_type": "markdown",
   "metadata": {},
   "source": [
    "De scores 96% en 98% procent zijn goede scores. De hyperparamaters zijn goed ingesteld en het netwerk leert dus goed. "
   ]
  },
  {
   "cell_type": "code",
   "execution_count": 10,
   "metadata": {},
   "outputs": [
    {
     "data": {
      "text/plain": [
       "96.0"
      ]
     },
     "execution_count": 10,
     "metadata": {},
     "output_type": "execute_result"
    }
   ],
   "source": [
    "accuracy_score(y_train, score(X_train))"
   ]
  },
  {
   "cell_type": "code",
   "execution_count": 11,
   "metadata": {},
   "outputs": [
    {
     "data": {
      "text/plain": [
       "98.0"
      ]
     },
     "execution_count": 11,
     "metadata": {},
     "output_type": "execute_result"
    }
   ],
   "source": [
    "accuracy_score(y_test, score(X_test))"
   ]
  },
  {
   "cell_type": "code",
   "execution_count": null,
   "metadata": {},
   "outputs": [],
   "source": []
  }
 ],
 "metadata": {
  "kernelspec": {
   "display_name": "Python 3",
   "language": "python",
   "name": "python3"
  },
  "language_info": {
   "codemirror_mode": {
    "name": "ipython",
    "version": 3
   },
   "file_extension": ".py",
   "mimetype": "text/x-python",
   "name": "python",
   "nbconvert_exporter": "python",
   "pygments_lexer": "ipython3",
   "version": "3.8.5"
  }
 },
 "nbformat": 4,
 "nbformat_minor": 4
}
